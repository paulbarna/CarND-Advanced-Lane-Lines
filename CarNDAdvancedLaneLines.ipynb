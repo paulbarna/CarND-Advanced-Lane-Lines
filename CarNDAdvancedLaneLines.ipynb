{
 "cells": [
  {
   "cell_type": "markdown",
   "metadata": {},
   "source": [
    "## Advanced Lane Finding Project\n",
    "\n",
    "The goals / steps of this project are the following:\n",
    "\n",
    "* Compute the camera calibration matrix and distortion coefficients given a set of chessboard images.\n",
    "* Apply a distortion correction to raw images.\n",
    "* Use color transforms, gradients, etc., to create a thresholded binary image.\n",
    "* Apply a perspective transform to rectify binary image (\"birds-eye view\").\n",
    "* Detect lane pixels and fit to find the lane boundary.\n",
    "* Determine the curvature of the lane and vehicle position with respect to center.\n",
    "* Warp the detected lane boundaries back onto the original image.\n",
    "* Output visual display of the lane boundaries and numerical estimation of lane curvature and vehicle position.\n",
    "\n",
    "---\n",
    "## First, I'll compute the camera calibration using chessboard images"
   ]
  },
  {
   "cell_type": "code",
   "execution_count": 1,
   "metadata": {
    "collapsed": true
   },
   "outputs": [],
   "source": [
    "import numpy as np\n",
    "import cv2\n",
    "import pickle\n",
    "import glob\n",
    "import matplotlib.pyplot as plt\n",
    "import matplotlib.image as mpimg\n",
    "%matplotlib qt\n",
    "\n",
    "# prepare object points, like (0,0,0), (1,0,0), (2,0,0) ....,(6,5,0)\n",
    "objp = np.zeros((6*9,3), np.float32)\n",
    "objp[:,:2] = np.mgrid[0:9,0:6].T.reshape(-1,2)\n",
    "\n",
    "# Arrays to store object points and image points from all the images.\n",
    "objpoints = [] # 3d points in real world space\n",
    "imgpoints = [] # 2d points in image plane.\n",
    "\n",
    "# Make a list of calibration images\n",
    "images = glob.glob('camera_cal/calibration*.jpg')\n",
    "\n",
    "\n",
    "# Step through the list and search for chessboard corners\n",
    "for N,fname in enumerate(images):\n",
    "    img = cv2.imread(fname)\n",
    "    gray = cv2.cvtColor(img,cv2.COLOR_BGR2GRAY)\n",
    "\n",
    "    # Find the chessboard corners\n",
    "    ret, corners = cv2.findChessboardCorners(gray, (9,6),None)\n",
    "\n",
    "    # If found, add object points, image points\n",
    "    if ret == True:\n",
    "        objpoints.append(objp)\n",
    "        imgpoints.append(corners)\n",
    "\n",
    "        # Draw and display the corners\n",
    "        img = cv2.drawChessboardCorners(img, (9,6), corners, ret)\n",
    "        cv2.imshow('img',img)\n",
    "        cv2.waitKey(500)\n",
    "        \n",
    "\n",
    "cv2.destroyAllWindows()"
   ]
  },
  {
   "cell_type": "markdown",
   "metadata": {},
   "source": [
    "## Undistort and Transform Perspective"
   ]
  },
  {
   "cell_type": "code",
   "execution_count": null,
   "metadata": {
    "collapsed": true
   },
   "outputs": [],
   "source": [
    "# Read in an image\n",
    "img = cv2.imread('test_images/test3.jpg')\n",
    "\n",
    "# TODO: Write a function that takes an image, object points, and image points\n",
    "# performs the camera calibration, image distortion correction and \n",
    "# returns the undistorted image\n",
    "def cal_undistort(img, objpoints, imgpoints):\n",
    "    # Use cv2.calibrateCamera and cv2.undistort()\n",
    "    gray = cv2.cvtColor(img,cv2.COLOR_BGR2GRAY)\n",
    "    ret, mtx, dist, rvecs, tvecs = cv2.calibrateCamera(objpoints, imgpoints, gray.shape[::-1],None,None)\n",
    "    undist = cv2.undistort(img, mtx, dist, None, mtx)\n",
    "    return undist,mtx,dist\n",
    "\n",
    "undistorted,mtx,dist = cal_undistort(img, objpoints, imgpoints)\n",
    "\n",
    "undistorted=cv2.cvtColor(undistorted, cv2.COLOR_BGR2RGB)\n",
    "img=cv2.cvtColor(img, cv2.COLOR_BGR2RGB)\n",
    "\n",
    "f, (ax1, ax2) = plt.subplots(1, 2, figsize=(24, 9))\n",
    "f.tight_layout()\n",
    "ax1.imshow(img)\n",
    "ax1.set_title('Original Image', fontsize=50)\n",
    "ax2.imshow(undistorted)\n",
    "ax2.set_title('Undistorted Image', fontsize=50)\n",
    "plt.subplots_adjust(left=0., right=1, top=0.9, bottom=0.)"
   ]
  },
  {
   "cell_type": "code",
   "execution_count": null,
   "metadata": {
    "collapsed": true
   },
   "outputs": [],
   "source": [
    "# Read in an image\n",
    "imgCal = cv2.imread('test_images/straight_lines1.jpg')\n",
    "imgRGB = cv2.cvtColor(imgCal, cv2.COLOR_BGR2RGB)\n",
    "imgUndist = cv2.undistort(imgRGB, mtx, dist, None, mtx)\n",
    "\n",
    "\n",
    "h,w = imgUndist.shape[:2]\n",
    "\n",
    "src = np.float32([(534,492),\n",
    "                  (750,488), \n",
    "                  (240,684), \n",
    "                  (1056,678)])\n",
    "\n",
    "dst = np.float32([(450,0),\n",
    "                  (w-450,0),\n",
    "                  (450,h),\n",
    "                  (w-450,h)])\n",
    "\n",
    "\n",
    "def corners_unwarp(img, src, dst):\n",
    "    # Pass in your image into this function\n",
    "    # Write code to do the following steps\n",
    "    # Undistort using mtx and dist\n",
    "    h,w = img.shape[:2]\n",
    "    M = cv2.getPerspectiveTransform(src, dst)\n",
    "    Minv=cv2.getPerspectiveTransform(dst, src)\n",
    "    warped = cv2.warpPerspective(img, M, (w,h), flags=cv2.INTER_LINEAR)\n",
    "    return warped, Minv\n",
    "\n",
    "top_down, perspective_M = corners_unwarp(imgUndist, src,dst)\n",
    "\n",
    "hWarped,wWarped= imgUndist.shape[:2]\n",
    "f, (ax1, ax2) = plt.subplots(1, 2, figsize=(24, 9))\n",
    "f.tight_layout()\n",
    "ax1.imshow(imgRGB)\n",
    "x = [src[0][0],src[2][0],src[3][0],src[1][0],src[0][0]]\n",
    "y = [src[0][1],src[2][1],src[3][1],src[1][1],src[0][1]]\n",
    "xWarped = [dst[0][0],dst[2][0],dst[3][0],dst[1][0],dst[0][0]]\n",
    "yWarped = [dst[0][1],dst[2][1],dst[3][1],dst[1][1],dst[0][1]]\n",
    "ax1.plot(x, y, color='#FF0000', alpha=0.5, linewidth=2, solid_capstyle='round', zorder=2)\n",
    "ax1.set_ylim([h,0])\n",
    "ax1.set_xlim([0,w])\n",
    "ax1.set_title('Original Image', fontsize=50)\n",
    "ax2.imshow(top_down)\n",
    "ax2.plot(xWarped, yWarped, color='#FF0000', alpha=0.5, linewidth=2, solid_capstyle='round', zorder=2)\n",
    "ax2.set_ylim([hWarped,0])\n",
    "ax2.set_xlim([0,wWarped])\n",
    "ax2.set_title('Undistorted and Warped Image', fontsize=50)\n",
    "plt.subplots_adjust(left=0., right=1, top=0.9, bottom=0.)"
   ]
  },
  {
   "cell_type": "markdown",
   "metadata": {},
   "source": [
    "## Applying Sobel Operator"
   ]
  },
  {
   "cell_type": "code",
   "execution_count": null,
   "metadata": {
    "collapsed": true
   },
   "outputs": [],
   "source": [
    "# Define a function that applies Sobel x or y, \n",
    "# then takes an absolute value and applies a threshold.\n",
    "# Note: calling your function with orient='x', thresh_min=5, thresh_max=100\n",
    "# should produce output like the example image shown above this quiz.\n",
    "def abs_sobel_thresh(img, orient='x', thresh_min=0, thresh_max=255):\n",
    "    # Apply the following steps to img\n",
    "    # 1) Convert to grayscale\n",
    "    gray = cv2.cvtColor(img, cv2.COLOR_RGB2GRAY)\n",
    "    # 2) Take the derivative in x or y given orient = 'x' or 'y'\n",
    "    sobel = cv2.Sobel(gray, cv2.CV_64F, orient=='x', orient=='y')\n",
    "    # 3) Take the absolute value of the derivative or gradient\n",
    "    abs_sobel = np.absolute(sobel)\n",
    "    # 4) Scale to 8-bit (0 - 255) then convert to type = np.uint8\n",
    "    scaled_sobel = np.uint8(255*abs_sobel/np.max(abs_sobel))\n",
    "    # 5) Create a mask of 1's where the scaled gradient magnitude \n",
    "            # is > thresh_min and < thresh_max\n",
    "    sxbinary = np.zeros_like(scaled_sobel)\n",
    "    sxbinary[(scaled_sobel >= thresh_min) & (scaled_sobel <= thresh_max)] = 1\n",
    "    # 6) Return this mask as your binary_output image\n",
    "    binary_output = sxbinary # Remove this line\n",
    "    return binary_output\n",
    "    \n",
    "# Run the function\n",
    "grad_binary = abs_sobel_thresh(top_down, orient='x', thresh_min=20, thresh_max=100)\n",
    "# Plot the result\n",
    "f, (ax1, ax2) = plt.subplots(1, 2, figsize=(24, 9))\n",
    "f.tight_layout()\n",
    "ax1.imshow(top_down)\n",
    "ax1.set_title('Original Image', fontsize=50)\n",
    "ax2.imshow(grad_binary, cmap='gray')\n",
    "ax2.set_title('Thresholded Gradient', fontsize=50)\n",
    "plt.subplots_adjust(left=0., right=1, top=0.9, bottom=0.)"
   ]
  },
  {
   "cell_type": "markdown",
   "metadata": {},
   "source": [
    "## Magnitude of the Gradient"
   ]
  },
  {
   "cell_type": "code",
   "execution_count": null,
   "metadata": {
    "collapsed": true
   },
   "outputs": [],
   "source": [
    "# Define a function that applies Sobel x and y, \n",
    "# then computes the magnitude of the gradient\n",
    "# and applies a threshold\n",
    "def mag_thresh(img, sobel_kernel=3, mag_thresh=(0, 255)):\n",
    "    \n",
    "    # Apply the following steps to img\n",
    "    # 1) Convert to grayscale\n",
    "    gray = cv2.cvtColor(img, cv2.COLOR_RGB2GRAY)\n",
    "    # 2) Take the gradient in x and y separately\n",
    "    sobelx = cv2.Sobel(gray, cv2.CV_64F, 1, 0)\n",
    "    sobely = cv2.Sobel(gray, cv2.CV_64F, 0, 1)\n",
    "    # 3) Calculate the magnitude \n",
    "    mag_sobel = np.sqrt(np.square(sobelx) + np.square(sobely))\n",
    "    # 4) Scale to 8-bit (0 - 255) and convert to type = np.uint8\n",
    "    scaled_sobel = np.uint8(255*mag_sobel/np.max(mag_sobel))\n",
    "    # 5) Create a binary mask where mag thresholds are met\n",
    "    sxbinary = np.zeros_like(scaled_sobel)\n",
    "    sxbinary[(scaled_sobel >= mag_thresh[0]) & (scaled_sobel <= mag_thresh[1])] = 1\n",
    "    # 6) Return this mask as your binary_output image\n",
    "    binary_output = np.copy(sxbinary) \n",
    "    return binary_output\n",
    "    \n",
    "# Run the function\n",
    "mag_binary = mag_thresh(top_down, sobel_kernel=3, mag_thresh=(30, 100))\n",
    "# Plot the result\n",
    "f, (ax1, ax2) = plt.subplots(1, 2, figsize=(24, 9))\n",
    "f.tight_layout()\n",
    "ax1.imshow(top_down)\n",
    "ax1.set_title('Original Image', fontsize=50)\n",
    "ax2.imshow(mag_binary, cmap='gray')\n",
    "ax2.set_title('Thresholded Magnitude', fontsize=50)\n",
    "plt.subplots_adjust(left=0., right=1, top=0.9, bottom=0.)"
   ]
  },
  {
   "cell_type": "markdown",
   "metadata": {},
   "source": [
    "## Direction of the Gradient"
   ]
  },
  {
   "cell_type": "code",
   "execution_count": null,
   "metadata": {
    "collapsed": true
   },
   "outputs": [],
   "source": [
    "# Define a function that applies Sobel x and y, \n",
    "# then computes the direction of the gradient\n",
    "# and applies a threshold.\n",
    "def dir_threshold(img, sobel_kernel=3, thresh=(0, np.pi/2)):\n",
    "    \n",
    "    # Apply the following steps to img\n",
    "    # 1) Convert to grayscale\n",
    "    gray = cv2.cvtColor(img, cv2.COLOR_RGB2GRAY)\n",
    "    # 2) Take the gradient in x and y separately\n",
    "    sobelx = cv2.Sobel(gray, cv2.CV_64F, 1, 0, ksize=sobel_kernel)\n",
    "    sobely = cv2.Sobel(gray, cv2.CV_64F, 0, 1, ksize=sobel_kernel)\n",
    "    # 3) Take the absolute value of the x and y gradients\n",
    "    abs_sobelx = np.absolute(sobelx)\n",
    "    abs_sobely = np.absolute(sobely)\n",
    "    # 4) Use np.arctan2(abs_sobely, abs_sobelx) to calculate the direction of the gradient \n",
    "    grad_dir = np.arctan2(abs_sobely, abs_sobelx)\n",
    "    # 5) Create a binary mask where direction thresholds are met\n",
    "    binary_output =  np.zeros_like(grad_dir)\n",
    "    binary_output[(grad_dir >= thresh[0]) & (grad_dir <= thresh[1])] = 1\n",
    "\n",
    "    # 6) Return this mask as your binary_output image\n",
    "    binary_output = np.copy(binary_output) # Remove this line\n",
    "    return binary_output\n",
    "    \n",
    "# Run the function\n",
    "dir_binary = dir_threshold(top_down, sobel_kernel=15, thresh=(0.7, 1.3))\n",
    "# Plot the result\n",
    "f, (ax1, ax2) = plt.subplots(1, 2, figsize=(24, 9))\n",
    "f.tight_layout()\n",
    "ax1.imshow(top_down)\n",
    "ax1.set_title('Original Image', fontsize=50)\n",
    "ax2.imshow(dir_binary, cmap='gray')\n",
    "ax2.set_title('Thresholded Grad. Dir.', fontsize=50)\n",
    "plt.subplots_adjust(left=0., right=1, top=0.9, bottom=0.)"
   ]
  },
  {
   "cell_type": "markdown",
   "metadata": {},
   "source": [
    "## HLS Threshold"
   ]
  },
  {
   "cell_type": "code",
   "execution_count": null,
   "metadata": {
    "collapsed": true
   },
   "outputs": [],
   "source": [
    "# Define a function that thresholds the S-channel of HLS\n",
    "# Use exclusive lower bound (>) and inclusive upper (<=)\n",
    "def hls_select(img, thresh):\n",
    "    # 1) Convert to HLS color space\n",
    "    hls = cv2.cvtColor(img, cv2.COLOR_RGB2HLS)\n",
    "    # 2) Apply a threshold to the S channel\n",
    "    binary_output = np.zeros_like(hls[:,:,2])\n",
    "    binary_output[(hls[:,:,2] > thresh[0]) & (hls[:,:,2] <= thresh[1])] = 1\n",
    "    # 3) Return a binary image of threshold result\n",
    "    #binary_output = np.copy(img) # placeholder line\n",
    "    return binary_output\n",
    "    \n",
    "hls_binary = hls_select(top_down, thresh=(180, 255))\n",
    "\n",
    "# Plot the result\n",
    "f, (ax1, ax2) = plt.subplots(1, 2, figsize=(24, 9))\n",
    "f.tight_layout()\n",
    "ax1.imshow(top_down)\n",
    "ax1.set_title('Original Image', fontsize=50)\n",
    "ax2.imshow(hls_binary, cmap='gray')\n",
    "ax2.set_title('Thresholded S', fontsize=50)\n",
    "plt.subplots_adjust(left=0., right=1, top=0.9, bottom=0.)"
   ]
  },
  {
   "cell_type": "markdown",
   "metadata": {},
   "source": [
    "## Lab Threshold"
   ]
  },
  {
   "cell_type": "code",
   "execution_count": null,
   "metadata": {
    "collapsed": true
   },
   "outputs": [],
   "source": [
    "def lab_select(img, thresh):\n",
    "    # 1) Convert to LAB color space\n",
    "    lab = cv2.cvtColor(img, cv2.COLOR_RGB2Lab)\n",
    "    lab_b = lab[:,:,2]\n",
    "    # don't normalize if there are no yellows in the image\n",
    "    if np.max(lab_b) > 175:\n",
    "        lab_b = lab_b*(255/np.max(lab_b))\n",
    "    # 2) Apply a threshold to the L channel\n",
    "    binary_output = np.zeros_like(lab_b)\n",
    "    binary_output[((lab_b > thresh[0]) & (lab_b <= thresh[1]))] = 1\n",
    "    # 3) Return a binary image of threshold result\n",
    "    return binary_output\n",
    "\n",
    "lab_binary = lab_select(top_down, thresh=(145, 200))\n",
    "\n",
    "# Plot the result\n",
    "f, (ax1, ax2) = plt.subplots(1, 2, figsize=(24, 9))\n",
    "f.tight_layout()\n",
    "ax1.imshow(top_down)\n",
    "ax1.set_title('Original Image', fontsize=50)\n",
    "ax2.imshow(lab_binary, cmap='gray')\n",
    "ax2.set_title('Thresholded B channel', fontsize=50)\n",
    "plt.subplots_adjust(left=0., right=1, top=0.9, bottom=0.)"
   ]
  },
  {
   "cell_type": "markdown",
   "metadata": {},
   "source": [
    "## Luv Threshold"
   ]
  },
  {
   "cell_type": "code",
   "execution_count": null,
   "metadata": {
    "collapsed": true
   },
   "outputs": [],
   "source": [
    "def luv_select(img, thresh):\n",
    "    # 1) Convert to LUV color space\n",
    "    luv = cv2.cvtColor(img, cv2.COLOR_RGB2LUV)\n",
    "    # 2) Apply a threshold to the S channel\n",
    "    binary_output = np.zeros_like(luv[:,:,0])\n",
    "    binary_output[(luv[:,:,0] > thresh[0]) & (luv[:,:,0] <= thresh[1])] = 1\n",
    "    # 3) Return a binary image of threshold result\n",
    "    #binary_output = np.copy(img) # placeholder line\n",
    "    return binary_output\n",
    "    \n",
    "luv_binary = luv_select(top_down, thresh=(215, 255))\n",
    "\n",
    "# Plot the result\n",
    "f, (ax1, ax2) = plt.subplots(1, 2, figsize=(24, 9))\n",
    "f.tight_layout()\n",
    "ax1.imshow(top_down)\n",
    "ax1.set_title('Original Image', fontsize=50)\n",
    "ax2.imshow(luv_binary, cmap='gray')\n",
    "ax2.set_title('Thresholded L channel', fontsize=50)\n",
    "plt.subplots_adjust(left=0., right=1, top=0.9, bottom=0.)"
   ]
  },
  {
   "cell_type": "markdown",
   "metadata": {},
   "source": [
    "## Pipeline"
   ]
  },
  {
   "cell_type": "code",
   "execution_count": null,
   "metadata": {
    "collapsed": true
   },
   "outputs": [],
   "source": [
    "# Edit this function to create your own pipeline.\n",
    "\n",
    "def pipeline(img, s_thresh=(170, 255), sx_thresh=(20, 100)):\n",
    "    img = np.copy(img)\n",
    "    \n",
    "    # Generate binary thresholded images\n",
    "    b_channel = cv2.cvtColor(img, cv2.COLOR_RGB2Lab)[:,:,2]\n",
    "    l_channel = cv2.cvtColor(img, cv2.COLOR_RGB2LUV)[:,:,0]  \n",
    "    \n",
    "    # Set the upper and lower thresholds for the b channel\n",
    "    b_thresh_min = 145\n",
    "    b_thresh_max = 200\n",
    "    b_binary = np.zeros_like(b_channel)\n",
    "    b_binary[(b_channel >= b_thresh_min) & (b_channel <= b_thresh_max)] = 1\n",
    "    \n",
    "    # Set the upper and lower thresholds for the l channel\n",
    "    l_thresh_min = 215\n",
    "    l_thresh_max = 255\n",
    "    l_binary = np.zeros_like(l_channel)\n",
    "    l_binary[(l_channel >= l_thresh_min) & (l_channel <= l_thresh_max)] = 1\n",
    "\n",
    "    combined_binary = np.zeros_like(b_binary)\n",
    "    combined_binary[(l_binary == 1) | (b_binary == 1)] = 1\n",
    "    \n",
    "    return combined_binary\n",
    "\n",
    "\n",
    "testImg = cv2.imread('test_images/test3.jpg')\n",
    "testImgRGB = cv2.cvtColor(testImg, cv2.COLOR_BGR2RGB)\n",
    "testImgUndist = cv2.undistort(testImgRGB, mtx, dist, None, mtx)\n",
    "\n",
    "test_h,test_w = testImgUndist.shape[:2]\n",
    "\n",
    "testSrc = np.float32([(576,478),\n",
    "                  (754,478), \n",
    "                  (311,657), \n",
    "                  (1048,657)])\n",
    "\n",
    "testDst = np.float32([(450,0),\n",
    "                  (test_w-450,0),\n",
    "                  (450,test_h),\n",
    "                  (test_w-450,test_h)])\n",
    "test_top_down, test_perspective_M = corners_unwarp(testImgUndist, testSrc,testDst)\n",
    "binary_warped = pipeline(test_top_down)\n",
    "\n",
    "# Plot the result\n",
    "f, (ax1, ax2) = plt.subplots(1, 2, figsize=(20, 10))\n",
    "f.tight_layout()\n",
    "\n",
    "ax1.imshow(testImgRGB)\n",
    "ax1.set_title('Original Image', fontsize=30)\n",
    "\n",
    "ax2.set_title('Combined S channel and gradient thresholds',fontsize=30)\n",
    "ax2.imshow(binary_warped, cmap='gray')\n",
    "plt.subplots_adjust(left=0., right=1, top=0.9, bottom=0.)"
   ]
  },
  {
   "cell_type": "markdown",
   "metadata": {},
   "source": [
    "## Implement Sliding Windows and Fit a Polynomial"
   ]
  },
  {
   "cell_type": "code",
   "execution_count": null,
   "metadata": {},
   "outputs": [
    {
     "name": "stderr",
     "output_type": "stream",
     "text": [
      "C:\\Users\\paul-otniel.barna\\AppData\\Local\\Continuum\\miniconda3\\envs\\paulbarna\\lib\\site-packages\\ipykernel_launcher.py:4: VisibleDeprecationWarning: using a non-integer number instead of an integer will result in an error in the future\n",
      "  after removing the cwd from sys.path.\n"
     ]
    },
    {
     "data": {
      "text/plain": [
       "(720, 0)"
      ]
     },
     "execution_count": 11,
     "metadata": {},
     "output_type": "execute_result"
    }
   ],
   "source": [
    "def slidingWindowPart1(binary_warped):  \n",
    "    # Assuming you have created a warped binary image called \"binary_warped\"\n",
    "    # Take a histogram of the bottom half of the image\n",
    "    histogram = np.sum(binary_warped[binary_warped.shape[0]/2:,:], axis=0)\n",
    "\n",
    "    # Create an output image to draw on and  visualize the result\n",
    "    out_img = np.dstack((binary_warped, binary_warped, binary_warped))*255\n",
    "    # Find the peak of the left and right halves of the histogram\n",
    "    # These will be the starting point for the left and right lines\n",
    "    midpoint = np.int(histogram.shape[0]/2)\n",
    "    leftx_base = np.argmax(histogram[:midpoint])\n",
    "    rightx_base = np.argmax(histogram[midpoint:]) + midpoint\n",
    "\n",
    "    # Choose the number of sliding windows\n",
    "    nwindows = 10\n",
    "    # Set height of windows\n",
    "    window_height = np.int(binary_warped.shape[0]/nwindows)\n",
    "    # Identify the x and y positions of all nonzero pixels in the image\n",
    "    nonzero = binary_warped.nonzero()\n",
    "    nonzeroy = np.array(nonzero[0])\n",
    "    nonzerox = np.array(nonzero[1])\n",
    "    # Current positions to be updated for each window\n",
    "    leftx_current = leftx_base\n",
    "    rightx_current = rightx_base\n",
    "    # Set the width of the windows +/- margin\n",
    "    margin = 90\n",
    "    # Set minimum number of pixels found to recenter window\n",
    "    minpix = 45\n",
    "    # Create empty lists to receive left and right lane pixel indices\n",
    "    left_lane_inds = []\n",
    "    right_lane_inds = []\n",
    "\n",
    "    # Step through the windows one by one\n",
    "    for window in range(nwindows):\n",
    "        # Identify window boundaries in x and y (and right and left)\n",
    "        win_y_low = binary_warped.shape[0] - (window+1)*window_height\n",
    "        win_y_high = binary_warped.shape[0] - window*window_height\n",
    "        win_xleft_low = leftx_current - margin\n",
    "        win_xleft_high = leftx_current + margin\n",
    "        win_xright_low = rightx_current - margin\n",
    "        win_xright_high = rightx_current + margin\n",
    "        # Draw the windows on the visualization image\n",
    "        cv2.rectangle(out_img,(win_xleft_low,win_y_low),(win_xleft_high,win_y_high),(0,255,0), 2) \n",
    "        cv2.rectangle(out_img,(win_xright_low,win_y_low),(win_xright_high,win_y_high),(0,255,0), 2) \n",
    "        # Identify the nonzero pixels in x and y within the window\n",
    "        good_left_inds = ((nonzeroy >= win_y_low) & (nonzeroy < win_y_high) & (nonzerox >= win_xleft_low) & (nonzerox < win_xleft_high)).nonzero()[0]\n",
    "        good_right_inds = ((nonzeroy >= win_y_low) & (nonzeroy < win_y_high) & (nonzerox >= win_xright_low) & (nonzerox < win_xright_high)).nonzero()[0]\n",
    "        # Append these indices to the lists\n",
    "        left_lane_inds.append(good_left_inds)\n",
    "        right_lane_inds.append(good_right_inds)\n",
    "        # If you found > minpix pixels, recenter next window on their mean position\n",
    "        if len(good_left_inds) > minpix:\n",
    "            leftx_current = np.int(np.mean(nonzerox[good_left_inds]))\n",
    "        if len(good_right_inds) > minpix:        \n",
    "            rightx_current = np.int(np.mean(nonzerox[good_right_inds]))\n",
    "\n",
    "    # Concatenate the arrays of indices\n",
    "    left_lane_inds = np.concatenate(left_lane_inds)\n",
    "    right_lane_inds = np.concatenate(right_lane_inds)\n",
    "\n",
    "    # Extract left and right line pixel positions\n",
    "    leftx = nonzerox[left_lane_inds]\n",
    "    lefty = nonzeroy[left_lane_inds] \n",
    "    rightx = nonzerox[right_lane_inds]\n",
    "    righty = nonzeroy[right_lane_inds] \n",
    "    \n",
    "    # Fit a second order polynomial to each\n",
    "    left_fit = np.array([0,0,0], dtype='float') \n",
    "    right_fit = np.array([0,0,0], dtype='float') \n",
    "    if len(leftx) != 0:\n",
    "        left_fit = np.polyfit(lefty, leftx, 2)\n",
    "    if len(rightx) != 0:\n",
    "        right_fit = np.polyfit(righty, rightx, 2)\n",
    "        \n",
    "    out_img[nonzeroy[left_lane_inds], nonzerox[left_lane_inds]] = [255, 0, 0]\n",
    "    out_img[nonzeroy[right_lane_inds], nonzerox[right_lane_inds]] = [0, 0, 255]\n",
    "\n",
    "    return out_img, left_fit, right_fit, left_lane_inds, right_lane_inds\n",
    "\n",
    "\n",
    "out_img, left_fit, right_fit, left_lane_inds, right_lane_inds= slidingWindowPart1(binary_warped)\n",
    "\n",
    "\n",
    " # Generate x and y values for plotting\n",
    "ploty = np.linspace(0, binary_warped.shape[0]-1, binary_warped.shape[0] )\n",
    "left_fitx = left_fit[0]*ploty**2 + left_fit[1]*ploty + left_fit[2]\n",
    "right_fitx = right_fit[0]*ploty**2 + right_fit[1]*ploty + right_fit[2]\n",
    "\n",
    "\n",
    "# At this point, you're done! But here is how you can visualize the result as well:\n",
    "# Plot the result\n",
    "f, (ax1, ax2) = plt.subplots(1, 2, figsize=(20, 10))\n",
    "f.tight_layout()\n",
    "\n",
    "ax1.imshow(testImgRGB)\n",
    "ax1.set_title('Original Image', fontsize=30)\n",
    "\n",
    "ax2.set_title('sliding windows',fontsize=30)\n",
    "ax2.imshow(binary_warped, cmap='gray')\n",
    "plt.subplots_adjust(left=0., right=1, top=0.9, bottom=0.)\n",
    "\n",
    "plt.imshow(out_img)\n",
    "plt.plot(left_fitx, ploty, color='yellow')\n",
    "plt.plot(right_fitx, ploty, color='yellow')\n",
    "plt.xlim(0, 1280)\n",
    "plt.ylim(720, 0)"
   ]
  },
  {
   "cell_type": "markdown",
   "metadata": {},
   "source": [
    "## Skip the sliding windows step once you know where the lines are"
   ]
  },
  {
   "cell_type": "code",
   "execution_count": null,
   "metadata": {
    "scrolled": true
   },
   "outputs": [
    {
     "data": {
      "text/plain": [
       "(720, 0)"
      ]
     },
     "execution_count": 12,
     "metadata": {},
     "output_type": "execute_result"
    }
   ],
   "source": [
    "def slidingWindowPart2(binary_warped,left_fit,right_fit):\n",
    "        \n",
    "    nonzero = binary_warped.nonzero()\n",
    "    nonzeroy = np.array(nonzero[0])\n",
    "    nonzerox = np.array(nonzero[1])\n",
    "    margin = 90\n",
    "    left_lane_inds = ((nonzerox > (left_fit[0]*(nonzeroy**2) + left_fit[1]*nonzeroy + \n",
    "    left_fit[2] - margin)) & (nonzerox < (left_fit[0]*(nonzeroy**2) + \n",
    "    left_fit[1]*nonzeroy + left_fit[2] + margin))) \n",
    "\n",
    "    right_lane_inds = ((nonzerox > (right_fit[0]*(nonzeroy**2) + right_fit[1]*nonzeroy + \n",
    "    right_fit[2] - margin)) & (nonzerox < (right_fit[0]*(nonzeroy**2) + \n",
    "    right_fit[1]*nonzeroy + right_fit[2] + margin)))  \n",
    "\n",
    "    # Again, extract left and right line pixel positions\n",
    "    leftx = nonzerox[left_lane_inds]\n",
    "    lefty = nonzeroy[left_lane_inds] \n",
    "    rightx = nonzerox[right_lane_inds]\n",
    "    righty = nonzeroy[right_lane_inds]\n",
    "    \n",
    "    # Fit a second order polynomial to each  \n",
    "    left_fit_current=np.array([0,0,0], dtype='float') \n",
    "    right_fit_current=np.array([0,0,0], dtype='float') \n",
    "    if len(leftx) != 0:\n",
    "        left_fit_current= np.polyfit(lefty, leftx, 2)\n",
    "    if len(rightx) != 0:\n",
    "        right_fit_current= np.polyfit(righty, rightx, 2)\n",
    "        \n",
    "    # Create an image to draw on \n",
    "    out_img = np.dstack((binary_warped, binary_warped, binary_warped))*255\n",
    "    # Color in left and right line pixels\n",
    "    out_img[nonzeroy[left_lane_inds], nonzerox[left_lane_inds]] = [255, 0, 0]\n",
    "    out_img[nonzeroy[right_lane_inds], nonzerox[right_lane_inds]] = [0, 0, 255]\n",
    "   \n",
    "    return out_img, left_fit_current, right_fit_current, left_lane_inds, right_lane_inds\n",
    "\n",
    "out_img, left_fit, right_fit, left_lane_inds, right_lane_inds = slidingWindowPart2(binary_warped,left_fit,right_fit)\n",
    "\n",
    "# Generate x and y values for plotting\n",
    "ploty = np.linspace(0, binary_warped.shape[0]-1, binary_warped.shape[0] )\n",
    "left_fitx = left_fit[0]*ploty**2 + left_fit[1]*ploty + left_fit[2]\n",
    "right_fitx = right_fit[0]*ploty**2 + right_fit[1]*ploty + right_fit[2]\n",
    "\n",
    "# Create an image to show the selection window\n",
    "window_img = np.zeros_like(out_img)\n",
    "margin=80\n",
    "\n",
    "# Generate a polygon to illustrate the search window area\n",
    "# And recast the x and y points into usable format for cv2.fillPoly()\n",
    "left_line_window1 = np.array([np.transpose(np.vstack([left_fitx-margin, ploty]))])\n",
    "left_line_window2 = np.array([np.flipud(np.transpose(np.vstack([left_fitx+margin, \n",
    "                              ploty])))])\n",
    "left_line_pts = np.hstack((left_line_window1, left_line_window2))\n",
    "right_line_window1 = np.array([np.transpose(np.vstack([right_fitx-margin, ploty]))])\n",
    "right_line_window2 = np.array([np.flipud(np.transpose(np.vstack([right_fitx+margin, \n",
    "                              ploty])))])\n",
    "right_line_pts = np.hstack((right_line_window1, right_line_window2))\n",
    "\n",
    "# Draw the lane onto the warped blank image\n",
    "cv2.fillPoly(window_img, np.int_([left_line_pts]), (0,255, 0))\n",
    "cv2.fillPoly(window_img, np.int_([right_line_pts]), (0,255, 0))\n",
    "result = cv2.addWeighted(out_img, 1, window_img, 0.3, 0)\n",
    "\n",
    "# Plot the result\n",
    "f, (ax1, ax2) = plt.subplots(1, 2, figsize=(20, 10))\n",
    "f.tight_layout()\n",
    "\n",
    "ax1.imshow(testImgRGB)\n",
    "ax1.set_title('Original Image', fontsize=30)\n",
    "\n",
    "ax2.set_title('sliding windows once we know where the line is',fontsize=30)\n",
    "ax2.imshow(binary_warped, cmap='gray')\n",
    "plt.subplots_adjust(left=0., right=1, top=0.9, bottom=0.)\n",
    "\n",
    "plt.imshow(result)\n",
    "plt.plot(left_fitx, ploty, color='yellow')\n",
    "plt.plot(right_fitx, ploty, color='yellow')\n",
    "plt.xlim(0, 1280)\n",
    "plt.ylim(720, 0)\n",
    "\n"
   ]
  },
  {
   "cell_type": "markdown",
   "metadata": {},
   "source": [
    "## Measuring Curvature and Distance to the lane center"
   ]
  },
  {
   "cell_type": "code",
   "execution_count": null,
   "metadata": {
    "collapsed": true
   },
   "outputs": [],
   "source": [
    "def MeasuringCurvatureAndDistance(binary_warped, left_fit, right_fit,left_lane_inds,right_lane_inds):\n",
    "    \n",
    "    left_curverad, right_curverad, distance = (0, 0, 0)\n",
    "    # Define y-value where we want radius of curvature\n",
    "    # I'll choose the maximum y-value, corresponding to the bottom of the image\n",
    "    h = binary_warped.shape[0]\n",
    "    w = binary_warped.shape[1]\n",
    "    ploty = np.linspace(0, h-1, num=h)\n",
    "    y_eval = np.max(ploty)\n",
    "\n",
    "    # Define conversions in x and y from pixels space to meters\n",
    "    ym_per_pix = 30/720 # meters per pixel in y dimension\n",
    "    xm_per_pix = 3.7/700 # meters per pixel in x dimension\n",
    "    \n",
    "    # Identify the x and y positions of all nonzero pixels in the image\n",
    "    nonzero = binary_warped.nonzero()\n",
    "    nonzeroy = np.array(nonzero[0])\n",
    "    nonzerox = np.array(nonzero[1])\n",
    "    # Again, extract left and right line pixel positions\n",
    "    leftx = nonzerox[left_lane_inds]\n",
    "    lefty = nonzeroy[left_lane_inds] \n",
    "    rightx = nonzerox[right_lane_inds]\n",
    "    righty = nonzeroy[right_lane_inds]\n",
    "\n",
    "    if len(leftx) != 0 and len(rightx) != 0:\n",
    "        # fit polynomials\n",
    "        left_fit_cr = np.polyfit(lefty*ym_per_pix, leftx*xm_per_pix, 2)\n",
    "        right_fit_cr = np.polyfit(righty*ym_per_pix, rightx*xm_per_pix, 2)\n",
    "        # calculate the radius of curvature\n",
    "        left_curverad = ((1 + (2*left_fit_cr[0]*y_eval*ym_per_pix + left_fit_cr[1])**2)**1.5) / np.absolute(2*left_fit_cr[0])\n",
    "        right_curverad = ((1 + (2*right_fit_cr[0]*y_eval*ym_per_pix + right_fit_cr[1])**2)**1.5) / np.absolute(2*right_fit_cr[0])\n",
    "    \n",
    "    # calculate the distance by subtracting the mean of left fit and right fit intercepts, from the image weight median \n",
    "    if right_fit is not None and left_fit is not None:\n",
    "        left_fit_intercepts = left_fit[0]*h**2 + left_fit[1]*h + left_fit[2]\n",
    "        right_fit_intercepts = right_fit[0]*h**2 + right_fit[1]*h + right_fit[2]\n",
    "        distance = ((w/2) - ((right_fit_intercepts + left_fit_intercepts)/2)) * xm_per_pix\n",
    "        #print (distance)\n",
    "    return left_curverad, right_curverad, distance\n"
   ]
  },
  {
   "cell_type": "markdown",
   "metadata": {},
   "source": [
    "## Drawing the measurement of the line positions onto the road"
   ]
  },
  {
   "cell_type": "code",
   "execution_count": null,
   "metadata": {
    "collapsed": true
   },
   "outputs": [],
   "source": [
    "def Drawing(img, binary_warped, left_fit, right_fit, Minv,left_curverad,right_curverad,distance):\n",
    "    img = np.copy(img)\n",
    "    \n",
    "    # Create an image to draw the lines on\n",
    "    warp_zero = np.zeros_like(binary_warped).astype(np.uint8)\n",
    "    color_warp = np.dstack((warp_zero, warp_zero, warp_zero))\n",
    "    \n",
    "    h,w = binary_warped.shape[:2]\n",
    "    ploty = np.linspace(0, h-1, num=h)\n",
    "    left_fitx = left_fit[0]*ploty**2 + left_fit[1]*ploty + left_fit[2]\n",
    "    right_fitx = right_fit[0]*ploty**2 + right_fit[1]*ploty + right_fit[2]\n",
    "\n",
    "    # Recast the x and y points into usable format for cv2.fillPoly()\n",
    "    pts_left = np.array([np.transpose(np.vstack([left_fitx, ploty]))])\n",
    "    pts_right = np.array([np.flipud(np.transpose(np.vstack([right_fitx, ploty])))])\n",
    "    pts = np.hstack((pts_left, pts_right))\n",
    "\n",
    "    # Draw the lane onto the warped blank image\n",
    "    cv2.fillPoly(color_warp, np.int_([pts]), (0,255, 0))\n",
    "\n",
    "    # Warp the blank back to original image space using inverse perspective matrix (Minv)\n",
    "    newwarp = cv2.warpPerspective(color_warp, Minv, (binary_warped.shape[1], binary_warped.shape[0])) \n",
    "    # Combine the result with the original image\n",
    "    result = cv2.addWeighted(img, 1, newwarp, 0.3, 0)\n",
    "    \n",
    "    font = cv2.FONT_HERSHEY_DUPLEX\n",
    "    text = 'Radius of Curvature: ' + '{:04.2f}'.format((left_curverad+right_curverad)/2) + 'm'\n",
    "    cv2.putText(result, text, (50,100), font, 2, (200,255,155), 2, cv2.LINE_AA)\n",
    "    direction = ''\n",
    "    if distance > 0:\n",
    "        direction = 'right'\n",
    "    elif distance < 0:\n",
    "        direction = 'left'\n",
    "    text = 'Vehicle is '+'{:04.5f}'.format(abs(distance)) + 'm ' + direction + ' of center'\n",
    "    cv2.putText(result, text, (50,150), font, 2, (200,255,155), 2, cv2.LINE_AA)\n",
    "    \n",
    "    #resultRGB = cv2.cvtColor(result, cv2.COLOR_BGR2RGB)\n",
    "  \n",
    "    return result"
   ]
  },
  {
   "cell_type": "code",
   "execution_count": null,
   "metadata": {
    "collapsed": true
   },
   "outputs": [],
   "source": [
    "left_curverad_meas,right_curverad_meas,distance_meas= MeasuringCurvatureAndDistance(binary_warped, left_fit, right_fit,left_lane_inds,right_lane_inds)\n",
    "\n",
    "Test_Img_Drawing = Drawing(testImg, binary_warped, left_fit, right_fit, test_perspective_M,left_curverad_meas,right_curverad_meas,distance_meas)\n",
    "\n",
    "Test_Img_Drawing=cv2.cvtColor(Test_Img_Drawing, cv2.COLOR_BGR2RGB)\n",
    "\n",
    "# Plot the result\n",
    "f, (ax1, ax2) = plt.subplots(1, 2, figsize=(20, 10))\n",
    "f.tight_layout()\n",
    "\n",
    "ax1.imshow(testImgRGB)\n",
    "ax1.set_title('Original Image', fontsize=30)\n",
    "\n",
    "ax2.set_title('Original (undistorted) image with lane area drawn',fontsize=20)\n",
    "ax2.imshow(Test_Img_Drawing)\n",
    "plt.subplots_adjust(left=0., right=1, top=0.9, bottom=0.)"
   ]
  },
  {
   "cell_type": "markdown",
   "metadata": {},
   "source": [
    "## Class which receives the characteristics of each line detection"
   ]
  },
  {
   "cell_type": "code",
   "execution_count": null,
   "metadata": {
    "collapsed": true
   },
   "outputs": [],
   "source": [
    "# Define a class to receive the characteristics of each line detection\n",
    "class Line():\n",
    "    def __init__(self):\n",
    "        # was the line detected in the last iteration?\n",
    "        self.detected = False  \n",
    "        # x values of the last n fits of the line\n",
    "        self.recent_xfitted = [] \n",
    "        #average x values of the fitted line over the last n iterations\n",
    "        self.bestx = None     \n",
    "        #polynomial coefficients averaged over the last n iterations\n",
    "        self.best_fit = np.array([0,0,0], dtype='float')   \n",
    "        #polynomial coefficients for the most recent fit\n",
    "        self.current_fit =[]  \n",
    "        #radius of curvature of the line in some units\n",
    "        self.radius_of_curvature = None \n",
    "        #distance in meters of vehicle center from the line\n",
    "        self.line_base_pos = None \n",
    "        #difference in fit coefficients between last and new fits\n",
    "        self.diffs = np.array([0,0,0], dtype='float') \n",
    "        #x values for detected line pixels\n",
    "        self.allx = None  \n",
    "        #y values for detected line pixels\n",
    "        self.ally = None\n",
    "        #buffer length of stored fits\n",
    "        self.FramesBufferN = 5\n",
    "        #margin diff between fits in pixels\n",
    "        self.PixDiff= 100.\n",
    "    \n",
    "    def TrackingAnalysis(self, frame_fit):\n",
    "        if frame_fit is None:\n",
    "            if len(self.current_fit) > 0:\n",
    "                # drop the last frame fit if frame fit is None\n",
    "                self.current_fit = self.current_fit[:len(self.current_fit)-1]\n",
    "                if len(self.current_fit) > 0:\n",
    "                # get the average for the existing fits and assign it to the best_fit\n",
    "                    self.best_fit = np.average(self.current_fit, axis=0)\n",
    "            self.detected = False\n",
    "        else:\n",
    "            if self.best_fit is not None:\n",
    "                # compute the diff between best fit and the frame fit, if it exceeds N pixels margin, the frame fit is droped\n",
    "                self.diffs = abs(frame_fit-self.best_fit)\n",
    "            if (self.diffs[2] > self.PixDiff) and len(self.current_fit) > 0:\n",
    "                self.detected = False\n",
    "            else:\n",
    "                self.current_fit.append(frame_fit)\n",
    "                if len(self.current_fit) > self.FramesBufferN:\n",
    "                    # drop off the old frames\n",
    "                    self.current_fit = self.current_fit[len(self.current_fit)-self.FramesBufferN:]\n",
    "                self.best_fit = np.average(self.current_fit, axis=0)\n",
    "                self.detected = True\n",
    "            \n"
   ]
  },
  {
   "cell_type": "markdown",
   "metadata": {},
   "source": [
    "## Video Processing "
   ]
  },
  {
   "cell_type": "code",
   "execution_count": null,
   "metadata": {
    "collapsed": true
   },
   "outputs": [],
   "source": [
    "def image_processing(image):\n",
    "    image = np.copy(image)\n",
    "\n",
    "    #image = cv2.cvtColor(image, cv2.COLOR_BGR2RGB)\n",
    "    image_undist = cv2.undistort(image, mtx, dist, None, mtx)\n",
    "    h = image_undist.shape[0]\n",
    "    w = image_undist.shape[1]\n",
    "    margin=100\n",
    "\n",
    "    top_down, perspective_Minv = corners_unwarp(image_undist, testSrc,testDst)\n",
    "    binary_warped = pipeline(top_down)\n",
    "    \n",
    "    if not left_lane.detected or not right_lane.detected:\n",
    "        #fit the polynomial to the binary image\n",
    "        out_img, left_fit, right_fit, left_lane_inds, right_lane_inds = slidingWindowPart1(binary_warped)\n",
    "    else:\n",
    "        #fit the polynomial to the binary image by using the previous fit\n",
    "        out_img, left_fit, right_fit, left_lane_inds, right_lane_inds = slidingWindowPart2(binary_warped,left_lane.best_fit,right_lane.best_fit)\n",
    "    \n",
    "    \n",
    "    if left_fit is not None and right_fit is not None:\n",
    "        left_fit_intercepts = left_fit[0]*h**2 + left_fit[1]*h + left_fit[2]\n",
    "        right_fit_intercepts = right_fit[0]*h**2 + right_fit[1]*h + right_fit[2]\n",
    "        #if the intercepts at the bottom of the image exceed the margin (in pixels) discard the fits\n",
    "        if abs(h/2 - abs(left_fit_intercepts-right_fit_intercepts)) > margin:\n",
    "                left_fit,right_fit = (None,None)\n",
    "                \n",
    "        \n",
    "    #run both lanes through analysis to compare the frame fit to the existing history    \n",
    "    left_lane.TrackingAnalysis(left_fit)\n",
    "    right_lane.TrackingAnalysis(right_fit)\n",
    "    \n",
    "    # draw if there is a fit\n",
    "    if left_lane.best_fit is not None and right_lane.best_fit is not None:\n",
    "        left_curverad_meas,right_curverad_meas,distance_meas= MeasuringCurvatureAndDistance(binary_warped, left_lane.best_fit, right_lane.best_fit,left_lane_inds,right_lane_inds)\n",
    "        Img_Drawing = Drawing(image, binary_warped, left_lane.best_fit, right_lane.best_fit, perspective_Minv,left_curverad_meas,right_curverad_meas,distance_meas)\n",
    "    #leave the image empty otherwise    \n",
    "    else:\n",
    "        Img_Drawing = image\n",
    "    \n",
    "    return Img_Drawing"
   ]
  },
  {
   "cell_type": "code",
   "execution_count": null,
   "metadata": {
    "scrolled": false
   },
   "outputs": [
    {
     "name": "stdout",
     "output_type": "stream",
     "text": [
      "[MoviePy] >>>> Building video project_video_output_final.mp4\n",
      "[MoviePy] Writing video project_video_output_final.mp4\n"
     ]
    },
    {
     "name": "stderr",
     "output_type": "stream",
     "text": [
      "100%|█████████████████████████████████████▉| 1260/1261 [02:52<00:00,  7.42it/s]\n"
     ]
    },
    {
     "name": "stdout",
     "output_type": "stream",
     "text": [
      "[MoviePy] Done.\n",
      "[MoviePy] >>>> Video ready: project_video_output_final.mp4 \n",
      "\n",
      "Wall time: 2min 53s\n"
     ]
    }
   ],
   "source": [
    "from moviepy.editor import VideoFileClip\n",
    "\n",
    "video_output_project = 'project_video_output_final.mp4'\n",
    "video_input_project = VideoFileClip('project_video.mp4')\n",
    "\n",
    "# apply src and dst coordinates per image characteristics/camera & lanes position \n",
    "video_input_project.save_frame(\"project_video.jpg\")\n",
    "testImg = cv2.imread('project_video.jpg')\n",
    "testImgRGB = cv2.cvtColor(testImg, cv2.COLOR_BGR2RGB)\n",
    "image_undist = cv2.undistort(testImgRGB, mtx, dist, None, mtx)\n",
    "h,w = image_undist.shape[:2]\n",
    "\n",
    "testSrc = np.float32([(576,478),\n",
    "                  (754,478), \n",
    "                  (311,657), \n",
    "                  (1048,657)])\n",
    "\n",
    "testDst = np.float32([(450,0),\n",
    "                  (w-450,0),\n",
    "                  (450,h),\n",
    "                  (w-450,h)])\n",
    "\n",
    "#initialize the lane statistics \n",
    "left_lane = Line()\n",
    "right_lane = Line()\n",
    "\n",
    "\n",
    "video_result = video_input_project.fl_image(image_processing)\n",
    "%time video_result.write_videofile(video_output_project, audio=False)"
   ]
  },
  {
   "cell_type": "code",
   "execution_count": null,
   "metadata": {},
   "outputs": [
    {
     "name": "stdout",
     "output_type": "stream",
     "text": [
      "[MoviePy] >>>> Building video challenge_video_output_final.mp4\n",
      "[MoviePy] Writing video challenge_video_output_final.mp4\n"
     ]
    },
    {
     "name": "stderr",
     "output_type": "stream",
     "text": [
      "100%|████████████████████████████████████████| 485/485 [01:07<00:00,  7.69it/s]\n"
     ]
    },
    {
     "name": "stdout",
     "output_type": "stream",
     "text": [
      "[MoviePy] Done.\n",
      "[MoviePy] >>>> Video ready: challenge_video_output_final.mp4 \n",
      "\n",
      "Wall time: 1min 8s\n"
     ]
    }
   ],
   "source": [
    "video_output_challenge = 'challenge_video_output_final.mp4'\n",
    "video_input_challenge = VideoFileClip('challenge_video.mp4')\n",
    "\n",
    "# apply src and dst coordinates per image characteristics/camera & lanes position \n",
    "video_input_challenge.save_frame(\"project_challenge.jpg\")\n",
    "testImg = cv2.imread('project_challenge.jpg')\n",
    "testImgRGB = cv2.cvtColor(testImg, cv2.COLOR_BGR2RGB)\n",
    "image_undist = cv2.undistort(testImgRGB, mtx, dist, None, mtx)\n",
    "h,w = image_undist.shape[:2]\n",
    "\n",
    "testSrc = np.float32([(594,496),\n",
    "                  (758,496), \n",
    "                  (324,680), \n",
    "                  (1060,680)])\n",
    "\n",
    "testDst = np.float32([(450,0),\n",
    "                  (w-450,0),\n",
    "                  (450,h),\n",
    "                  (w-450,h)])\n",
    "\n",
    "#initialize the lane statistics \n",
    "left_lane = Line()\n",
    "right_lane = Line()\n",
    "\n",
    "video_result = video_input_challenge.fl_image(image_processing)\n",
    "%time video_result.write_videofile(video_output_challenge, audio=False)"
   ]
  },
  {
   "cell_type": "code",
   "execution_count": null,
   "metadata": {},
   "outputs": [
    {
     "name": "stdout",
     "output_type": "stream",
     "text": [
      "[MoviePy] >>>> Building video harder_challenge_video_output_final.mp4\n",
      "[MoviePy] Writing video harder_challenge_video_output_final.mp4\n"
     ]
    },
    {
     "name": "stderr",
     "output_type": "stream",
     "text": [
      "100%|█████████████████████████████████████▉| 1199/1200 [03:29<00:00,  5.02it/s]\n"
     ]
    },
    {
     "name": "stdout",
     "output_type": "stream",
     "text": [
      "[MoviePy] Done.\n",
      "[MoviePy] >>>> Video ready: harder_challenge_video_output_final.mp4 \n",
      "\n",
      "Wall time: 3min 31s\n"
     ]
    }
   ],
   "source": [
    "video_output_harder_challenge = 'harder_challenge_video_output_final.mp4'\n",
    "video_input_harder_challenge = VideoFileClip('harder_challenge_video.mp4')\n",
    "\n",
    "# apply src and dst coordinates per image characteristics/camera & lanes position \n",
    "video_input_harder_challenge.save_frame(\"harder_challenge.jpg\")\n",
    "testImg = cv2.imread('harder_challenge.jpg')\n",
    "testImgRGB = cv2.cvtColor(testImg, cv2.COLOR_BGR2RGB)\n",
    "image_undist = cv2.undistort(testImgRGB, mtx, dist, None, mtx)\n",
    "h,w = image_undist.shape[:2]\n",
    "\n",
    "testSrc = np.float32([(520,488),\n",
    "                  (723,488), \n",
    "                  (299,647), \n",
    "                  (940,647)])\n",
    "\n",
    "testDst = np.float32([(450,0),\n",
    "                  (w-450,0),\n",
    "                  (450,h),\n",
    "                  (w-450,h)])\n",
    "\n",
    "#initialize the lane statistics \n",
    "left_lane = Line()\n",
    "right_lane = Line()\n",
    "\n",
    "\n",
    "video_result = video_input_harder_challenge.fl_image(image_processing)\n",
    "%time video_result.write_videofile(video_output_harder_challenge, audio=False)"
   ]
  }
 ],
 "metadata": {
  "anaconda-cloud": {},
  "kernelspec": {
   "display_name": "Python 3",
   "language": "python",
   "name": "python3"
  },
  "language_info": {
   "codemirror_mode": {
    "name": "ipython",
    "version": 3
   },
   "file_extension": ".py",
   "mimetype": "text/x-python",
   "name": "python",
   "nbconvert_exporter": "python",
   "pygments_lexer": "ipython3",
   "version": "3.5.4"
  }
 },
 "nbformat": 4,
 "nbformat_minor": 1
}
